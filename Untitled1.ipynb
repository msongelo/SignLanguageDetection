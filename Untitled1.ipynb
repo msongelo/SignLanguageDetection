{
 "cells": [
  {
   "cell_type": "markdown",
   "id": "3a196dec",
   "metadata": {},
   "source": [
    "Resources Used\n",
    "\n",
    "wget.download('https://tensorflow-object-detection-api-tutorial.readthedocs.io/en/latest/_downloads/da4babe668a8afb093cc7776d7e630f3/generate_tfrecord.py')\n",
    "Setup https://tensorflow-object-detection-api-tutorial.readthedocs.io/en/latest/install.html"
   ]
  },
  {
   "cell_type": "markdown",
   "id": "04576f3b",
   "metadata": {},
   "source": [
    "# SETUP paths"
   ]
  },
  {
   "cell_type": "code",
   "execution_count": 1,
   "id": "47be9b78",
   "metadata": {},
   "outputs": [],
   "source": [
    "WORKSPACE_PATH = 'TensorFlow/workspace'\n",
    "SCRIPTS_PATH = 'TensorFlow/Scripts'\n",
    "APIMODEL_PATH = 'TensorFlow/models'\n",
    "ANNOTATION_PATH = WORKSPACE_PATH+'/annotations'\n",
    "IMAGE_PATH = WORKSPACE_PATH+'/images'\n",
    "MODEL_PATH = WORKSPACE_PATH+'/models'\n",
    "PRETRAINED_MODEL_PATH = WORKSPACE_PATH+'/pre-trained models'\n",
    "CONFIG_PATH = MODEL_PATH+'/my_ssd_mobnet/pipeline.config'\n",
    "CHECKPOINT_PATH = MODEL_PATH+'/my_ssd_mobnet/'"
   ]
  },
  {
   "cell_type": "markdown",
   "id": "76fafe25",
   "metadata": {},
   "source": [
    "# Create Label map"
   ]
  },
  {
   "cell_type": "code",
   "execution_count": 2,
   "id": "b0e9a0fd",
   "metadata": {},
   "outputs": [],
   "source": [
    "labels = [\n",
    "    {'name':'Hello', 'id':1},\n",
    "    {'name':'yes', 'id':2},\n",
    "    {'name':'No', 'id':3},\n",
    "    {'name':'Thank you', 'id':4},\n",
    "    {'name':'I love you', 'id':5},\n",
    "]\n",
    "\n",
    "with open(ANNOTATION_PATH + '\\label_map.pbtxt', 'w') as f:\n",
    "    for label in labels:\n",
    "        f.write('item {\\n}')\n",
    "        f.write('\\tname:\\'{}\\'\\n'.format(label['name']))\n",
    "        f.write('\\tid:{}\\n'.format(label['id']))\n",
    "        f.write('}\\n')"
   ]
  },
  {
   "cell_type": "markdown",
   "id": "2a29d0af",
   "metadata": {},
   "source": [
    "# Create TF records"
   ]
  },
  {
   "cell_type": "code",
   "execution_count": 3,
   "id": "856e1d41",
   "metadata": {},
   "outputs": [
    {
     "name": "stderr",
     "output_type": "stream",
     "text": [
      "python: can't open file 'C:\\Users\\User\\Desktop\\SignLanguageDetection\\TensorFlow\\Scripts\\generate_tfrecord.py': [Errno 2] No such file or directory\n",
      "python: can't open file 'C:\\Users\\User\\Desktop\\SignLanguageDetection\\TensorFlow\\Scripts\\generate_tfrecord.py': [Errno 2] No such file or directory\n"
     ]
    }
   ],
   "source": [
    "!python {SCRIPTS_PATH + '/generate_tfrecord.py'} -x {IMAGE_PATH + '/train'} -l {ANNOTATION_PATH + '/label_map.pbtxt'} -o {ANNOTATION_PATH + '/train.record'}\n",
    "!python {SCRIPTS_PATH + '/generate_tfrecord.py'} -x {IMAGE_PATH + '/test'} -l {ANNOTATION_PATH + '/label_map.pbtxt'} -o {ANNOTATION_PATH + '/test.record'}"
   ]
  },
  {
   "cell_type": "markdown",
   "id": "db5b60a7",
   "metadata": {},
   "source": [
    "# Download models pretrained models from tensorflow model"
   ]
  },
  {
   "cell_type": "code",
   "execution_count": 1,
   "id": "bc26dc49",
   "metadata": {},
   "outputs": [],
   "source": [
    "CUSTOM_MODEL_NAME = 'ssd_mobnet'\n"
   ]
  },
  {
   "cell_type": "code",
   "execution_count": null,
   "id": "892fac7d",
   "metadata": {},
   "outputs": [],
   "source": [
    "!mkdir {'Tensorflow\\workspace\\models\\\\'+CUSTOM_MODEL_NAME}\n",
    "!cp {PRETRAINED_MODEL_PATH+'/ssd_mobilenet_v2_fpnlite_320x320_coco17_tpu-8/pipeline.config'} {MODEL_PATH+'/'+CUSTOM_MODEL_NAME}"
   ]
  }
 ],
 "metadata": {
  "kernelspec": {
   "display_name": "Python 3 (ipykernel)",
   "language": "python",
   "name": "python3"
  },
  "language_info": {
   "codemirror_mode": {
    "name": "ipython",
    "version": 3
   },
   "file_extension": ".py",
   "mimetype": "text/x-python",
   "name": "python",
   "nbconvert_exporter": "python",
   "pygments_lexer": "ipython3",
   "version": "3.9.12"
  }
 },
 "nbformat": 4,
 "nbformat_minor": 5
}
